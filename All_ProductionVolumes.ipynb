{
 "cells": [
  {
   "cell_type": "code",
   "execution_count": null,
   "metadata": {},
   "outputs": [],
   "source": [
    "import numpy as np\n",
    "import pandas as pd\n",
    "from sqlalchemy import create_engine\n",
    "import time"
   ]
  },
  {
   "cell_type": "code",
   "execution_count": null,
   "metadata": {},
   "outputs": [],
   "source": [
    "# Define the years we plan to download from CalGEM\n",
    "years = ['2020','2021','2022','2023']\n",
    "\n",
    "# Iterate over each year we plan to download.\n",
    "for year in years:\n",
    "    print(f'Currently processing year:({year})')\n",
    "\n",
    "    # Create a dictionary of filenames for each dataset we plan to work with.\n",
    "    calgem_filenames = {\n",
    "        \"wells_file\": f\"{year}CaliforniaOilAndGasWells.csv\",\n",
    "        \"production_file\": f\"{year}CaliforniaOilAndGasWellMonthlyProduction.csv\",\n",
    "        \"injection_file\": f\"{year}CaliforniaOilAndGasWellMonthlyInjection.csv\"\n",
    "    }\n",
    "\n",
    "    # Construct the CalGEM urls needed to download the datasets.\n",
    "    wells_url = f\"https://calgem-pid.conservation.ca.gov/pid/{calgem_filenames['wells_file']}\"\n",
    "    production_url = f\"https://calgem-pid.conservation.ca.gov/pid/{calgem_filenames['production_file']}\"\n",
    "    injections_url = f\"https://calgem-pid.conservation.ca.gov/pid/{calgem_filenames['injection_file']}\"\n",
    "\n",
    "    # step to be able to webscrape the data: https://stackoverflow.com/questions/55711159/pandas-read-csv-from-url-and-include-request-header\n",
    "    # Custom way to tell CalGEM to accept our request for the data.\n",
    "    headers = {\n",
    "        'User-Agent': 'Mozilla/5.0 (X11; Linux x86_64) AppleWebKit/537.11 (KHTML, like Gecko) Chrome/23.0.1271.64 Safari/537.11'\n",
    "    }\n",
    "\n",
    "    # Create a dataframe for each dataset from CalGEM, and formats the data as CSV.\n",
    "    df_wells_data = pd.read_csv(wells_url, storage_options=headers)\n",
    "    df_production_data = pd.read_csv(production_url, storage_options=headers)\n",
    "    df_injection_data = pd.read_csv(injections_url, storage_options=headers)\n",
    "\n",
    "    # add column Year to df_wells_data in each year downloaded.\n",
    "    df_wells_data['ReportYear'] = year\n",
    "    df_production_data['ReportYear'] = year\n",
    "    df_injection_data['ReportYear'] = year\n",
    "\n",
    "    # Writes the downloaded CalGEM data to the CSV file.\n",
    "    df_wells_data.to_csv(calgem_filenames['wells_file'])\n",
    "    df_production_data.to_csv(calgem_filenames['production_file'])\n",
    "    df_injection_data.to_csv(calgem_filenames['injection_file'])\n",
    "\n",
    "    # Completed this year. Waiting 5 seconds before we process the next years worth of data.\n",
    "    print(f'Processing year complete:({year}), waiting 5 sec...')\n",
    "    time.sleep(5)\n",
    "\n",
    "# We are done.\n",
    "print(\"Download Complete.\")"
   ]
  },
  {
   "cell_type": "code",
   "execution_count": null,
   "metadata": {},
   "outputs": [],
   "source": [
    "# Set pandas to display all columns\n",
    "pd.set_option('display.max_columns', None)\n",
    "\n",
    "# Preview the first 5 rows\n",
    "print(\"Preview of df_production_data:\")\n",
    "print(df_production_data.head())"
   ]
  }
 ],
 "metadata": {
  "language_info": {
   "name": "python"
  }
 },
 "nbformat": 4,
 "nbformat_minor": 2
}
